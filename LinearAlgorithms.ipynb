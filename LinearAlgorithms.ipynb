{
 "cells": [
  {
   "cell_type": "markdown",
   "metadata": {},
   "source": [
    "## Gradient Descent\n",
    "\n",
    "여기서부터는 Linear Algorithm에서의 Machine Learning Optimization을 다룹니다.\n",
    "\n",
    "Gradient Descent는 알고리즘을 최적화하여 함수 $f$ 의 파라미터(계수) 값을 찾는 데 사용됩니다. 매개 변수를 선형 대수 등으로 계산할 수 없거나 알고리즘을 통해 찾아야 하는 경우에 적합합니다.\n",
    "직관적으로 설명하자면 현재 산의 위치를 모르는 상황에서 하산을 해야 할 경우 주변의 가장 가파른 곳(미분$^{derivative}$하여 기울기가 가장 큰 곳)만 계속 찾아서 내려가면 언젠가는 목표 지점에 도착한다는 것입니다. 여기서 목표 지점은 경사가 없는(극소$^{local minimum}$) 곳입니다.\n",
    "\n",
    "프로시저로 나타내면 다음과 같이 시작할 수 있습니다.\n",
    "\n",
    "현재 산에서 자신이 서있는 위치를 기준으로 계수를 0으로 설정합니다.\n",
    "\n",
    "$$ x_0 = 0.0 $$\n",
    "\n",
    "기준 위치로부터 특정 방향으로 갔을 경우의 비용(cost)을 계산합니다.\n",
    "\n",
    "$$ cost = f(x_0) $$\n",
    "\n",
    "이 방향이 가장 가파른지 아닌지는 미분을 통해 기울기를 계산함으로써 알 수 있습니다.\n",
    "\n",
    "$$ delta = derivative(cost) $$\n",
    "\n",
    "가장 가파른 위치를 찾아내고 그 곳으로 이동한 뒤 새로운 기준 위치로 설정합니다.\n",
    "\n",
    "$$ x_1 = x_0 - (gamma * delta) $$\n",
    "\n",
    "여기서 $gamma$는 한 번에 이동하는 정도(걷는 속도)이며 머신 러닝에서는 학습율이 될 수 있습니다.\n",
    "이를 계속 반복하여 일반화 하면 다음과 같이 식으로 나타낼 수 있습니다.\n",
    "\n",
    "$$ x_{i+1} = x_i - \\gamma_i \\nabla f(x_i) $$\n",
    "\n",
    "아래 예시는 $y = x^2 -3x + 2$ 인 경우의 예입니다."
   ]
  },
  {
   "cell_type": "code",
   "execution_count": 1,
   "metadata": {},
   "outputs": [
    {
     "data": {
      "image/png": "[encoded data removed]",
      "text/plain": [
       "<matplotlib.figure.Figure at 0x107bf35f8>"
      ]
     },
     "metadata": {},
     "output_type": "display_data"
    }
   ],
   "source": [
    "%matplotlib inline\n",
    "import numpy as np\n",
    "import matplotlib.pyplot as plt\n",
    "\n",
    "\n",
    "def f_prime(x):\n",
    "    return 2*x - 3\n",
    "\n",
    "\n",
    "def y(x):\n",
    "    return x**2 - 3*x + 2\n",
    "\n",
    "# init parameter, domain\n",
    "x = np.arange(-1.0, 3.0, 0.01)\n",
    "gamma = 0.1         # learning rate\n",
    "eps = 0.0001        # epsilon\n",
    "tangent_eq = -3 * x + 2\n",
    "\n",
    "# figure init\n",
    "plt.title('Gradient Descent', fontsize=20)\n",
    "plt.text(1, 1, r'$y=x^2 -3x + 2$')\n",
    "plt.xlabel(r'$x$')\n",
    "plt.ylabel(r'$y$')\n",
    "\n",
    "# start plot\n",
    "plt.plot(x, y(x))\n",
    "x0, y0 = 0, 2\n",
    "plt.scatter(x0, y0, s=20)\n",
    "plt.plot(x, tangent_eq)\n",
    "\n",
    "# basic gradient descent algorithm\n",
    "x_old = -1  # No meaning, for loop condition\n",
    "x_new = 0   # initial value\n",
    "while abs(x_old - x_new) > eps:\n",
    "    x_old = x_new\n",
    "    x_new = x_old - gamma * f_prime(x_old)\n",
    "    plt.scatter(x_new, y(x_new), s=30)\n",
    "\n",
    "# end plot\n",
    "plt.plot(x, f_prime(x_new) * (x - x_new) + y(x_new))\n",
    "\n",
    "plt.show()"
   ]
  },
  {
   "cell_type": "markdown",
   "metadata": {},
   "source": [
    "## Batch Gradient Descent\n",
    "\n",
    "알고리즘의 한 번의 iteration을 일괄처리$^{batch}$라고 합니다. 위의 예제에서 while loop에 해당하는 부분입니다. 이처럼 머신 러닝에서 대부분의 gradient descent 형태가 Batch gradient descent입니다.\n",
    "\n",
    "## Stochastic Gradient Descent\n",
    "\n",
    "데이터 셋이 매우 클 경우에는, neural network를 예로 들면 입력 변수의 개수가 엄청나게 많아서 느리게 동작할 수 있습니다. 심지어 각각 인스턴스에 대해 한번의 iteration을 거치는데 인스턴스가 수백만개일 경우 매우 느리게 동작합니다.\n",
    "\n",
    "여기서 stochastic gradient descent라는 변형을 사용하는데, 계수의 업데이트가 각 batch의 끝이 아닌 하나의 인스턴스의 결과가 각 트레이닝 인스턴스에 대해 업데이트를 수행합니다."
   ]
  },
  {
   "cell_type": "markdown",
   "metadata": {},
   "source": [
    "## Tips for Gradient Descent\n",
    "\n",
    "- **Plot Cost vs Time**: 각 반복 알고리즘에 의해 계산된 비용 값을 수집하고 plot합니다.잘 실행되는 Gradient descent는 각 이터레이션마다 비용이 감소한다는 것입니다. 그렇지 않으면 학습 속도를 줄여보십시오.\n",
    "\n",
    "- **Learning Rate**: 0.1, 0.001, 0.0001 같은 실수 값입니다. 문제에 대해 각기 다른 값을 시도하고 어떤 것이 가장 잘 작동하는지 확인하십시오.\n",
    "\n",
    "- **Rescale Inputs**: 비용 함수의 모양이 삐뚤어지거나 왜곡되지 않으면 알고리즘은 최소 비용에 더 빨리 도달합니다. 모든 입력 변수 X를 동일한 범위 (0, 1)로 재조정하여 이 작업을 수행할 수 있습니다.\n",
    "\n",
    "- **Few Passes**: 확률론적$^{stochastic}$ gradient descent는 종종 좋은 계수로 수렴하기 위해 훈련 데이터 셋을 통해 1:10 이상 통과를 필요로 하지 않습니다.\n",
    "\n",
    "- **Plot Mean Cost**: 각 트레이닝 데이터 셋 인스턴스에 대한 업데이트로 인해 시간이 지남에 따라 노이즈 plot이 생길 수 있습니다. 평균 10, 100, 1000건 이상의 업데이트를 사용하면 알고리즘의 학습 추세에 대해 더 잘 이해할 수 있습니다."
   ]
  },
  {
   "cell_type": "markdown",
   "metadata": {},
   "source": [
    "## Linear Regression Learning the Model\n",
    "\n",
    "### Simple Linear Regression\n",
    "\n",
    "평균, 표준편차 상관관계 및 공분산과 같은 데이터로부터 계산하는 회귀 분석입니다.\n",
    "\n",
    "### Ordinary Least Squares\n",
    "\n",
    "하나 이상의 입력이 있을 때 계수의 값을 추정하기 위해 Ordinary Least Square을 사용할 수 있습니다.\n",
    "residual들의 제곱의 합을 최소화하고자 합니다. 즉 데이터를 통해 regression line이 주어지면 각 데이터 점에서 line까지의 거리를 계산하고 이를 제곱하여 모든 제곱 오류를 합산합니다.\n",
    "이 접근은 데이터를 행렬로 취급하고 선형대수 연산을 사용하여 계수의 최적 값을 추정합니다.\n",
    "즉 모든 데이터를 사용할 수 있어야 하고 데이터를 저장하고 행렬 작업을 수행할 수 있는 메모리가 있어야 합니다.\n",
    "\n",
    "## Gradient Descent\n",
    "\n",
    "하나 이상의 입력이 있는 경우 트레이닝 데이터에서 모델의 오류를 반복적으로 최소화하여 계수의 값을 최적화하는 프로세스를 사용할 수 있습니다.\n",
    "이 작업을 Gradient Descent라고 하며 각 계수에 대해 0으로 시작하여 동작합니다.\n",
    "\n",
    "### Regularized Linear Regression\n",
    "\n",
    "- Lasso Regression: where Ordinary Least Squares is modified to also minimize the absolute sum of the coefficients(called L1 regularization).\n",
    "\n",
    "- Ridge Regression: where Ordinary Least Squares is modified to also minimize the squared absolute sum of coefficients(called L2 regularization).\n",
    "\n",
    "## Making Predictions with Linear Regression\n",
    "\n",
    "ex) 키 $x$에서 체중 $y$를 예측한다.\n",
    "\n",
    "$$ y = B0 + B1 * X1 \\\\\n",
    "weight = B0 + B1 * height $$\n",
    "\n",
    "좋은 계수 집합을 찾기 위해 학습 기법을 사용합니다. 일단 발견되면 무게를 예측하기 위해 다른 키 값을 연결할 수 있습니다. 예로 $B0 = 0.1$, $B1 = 0.5$를 사용합니다. 그리고 182cm 키의 사람을 계산해 봅니다.\n",
    "\n",
    "$$ weight = 0.1 + 0.5 * 182 \\\\\n",
    "weight = 91.1$$\n",
    "\n",
    "## Preparing Data for Linear Regression\n",
    "\n",
    "- **Linear Assumption.** 선형 회귀는 입력 출력간의 관계를 선형이라고 가정합니다. 그 외 다른 것은 지원하지 않습니다. 관계를 선형으로 만들기 위해 데이터를 변환해야 하는 경우도 있습니다.(지수 관계인 경우 로그 변환)\n",
    "- **Remove Noise.** 선형 회귀는 입력 변수와 출력 변수가 노이즈가 없다고 가정합니다.\n",
    "데이터에서 신호를 더 잘 보여주고 명확하게 정리할 수 있는 데이터 정리 작업을 고려합니다.\n",
    "특히 출력 변수에서 가장 중요하며 가능한 경우 특이값을 제거하기도 합니다.\n",
    "\n",
    "- **Remove Collinearity.** 선형 회귀는 상관관계가 높은 입력 변수가 있을 때 데이터의 over-fit이 일어날 수 있습니다. 입력 데이터에 대해 상관 관계를 계산하고 가장 높은 상관관계를 가진 데이터 쌍은 제거하는 것이 좋습니다.\n",
    "\n",
    "- **Gaussian Distributions.** 선형 회귀는 입력 출력 변수가 가우스 분포(정규 분포)를 갖는 경우보다 안정적인 예측을 합니다. 변수에 대한 변형(log, BoxCox)을 사용하면 더 많은 가우스 분포를 만들 수 있습니다.\n",
    "\n",
    "- **Rescale Inputs** 선형 회귀는 표준화 또는 정규화를 사용하여 입력 변수의 크기를 조정할 때 종종 안정적인 예측을 합니다."
   ]
  },
  {
   "cell_type": "markdown",
   "metadata": {},
   "source": [
    "## Simple Linear Regression\n",
    "\n",
    "단일 입력 속성 x로 선형 회귀를 사용하려는 경우 simple linear regression이라고 합니다.\n",
    "간단한 선형회귀 모델은 다음과 같습니다.\n",
    "\n",
    "$$ y = B_0 + B_1 * x $$\n",
    "\n",
    "$x$, $y$ 는 입력 및 출력 변수이며 $B_0$ (절편), $B_1$ (기울기)은 직선을 이동시킬 수 있는 계수입니다.\n",
    "\n",
    "Linear Regression의 아이디어는 평균으로 예측하는 것입니다. 평균값을 지나는 직선의 방정식으로부터 출발합니다.\n",
    "\n",
    "$$ y - mean(y) = B_1(x - mean(x)) $$\n",
    "\n",
    "주 목표는 $x$에서 $y$를 예측할 때 오류를 최소화 하기 위한 계수를 추정하는 것입니다.\n",
    "양 변에 $x - mean(x)$를 곱한 다음 현재 분포되어 있는 데이터를 모두 합산하여 $B_1$에 대한 값을 다음과 같이 추정합니다.\n",
    "\n",
    "$$ B_1 = \\frac{\\sum_{i=1}^{n}(x_i - mean(x)) * (y_i - mean(y))}\n",
    "{\\sum_{i=1}^{n}(x_i - mean(x))^{2}} $$\n",
    "\n",
    "$B_0$는 위에서 나열한 식을 연립하여 구할 수 있습니다.\n",
    "\n",
    "$$B_0 = mean(y) - B_1*mean(x)$$"
   ]
  },
  {
   "cell_type": "code",
   "execution_count": 27,
   "metadata": {},
   "outputs": [
    {
     "data": {
      "image/png": "[encoded data removed]",
      "text/plain": [
       "<matplotlib.figure.Figure at 0x113503a90>"
      ]
     },
     "metadata": {},
     "output_type": "display_data"
    }
   ],
   "source": [
    "%matplotlib inline\n",
    "import pandas as pd\n",
    "import numpy as np\n",
    "import matplotlib.pyplot as plt\n",
    "\n",
    "\n",
    "def y(x):\n",
    "    return 3*x + 2\n",
    "\n",
    "num_points = 100\n",
    "df = pd.DataFrame(columns=('x', 'y'))\n",
    "\n",
    "for i in range(num_points):\n",
    "    x_i = np.random.normal(0.0, 0.5)\n",
    "    y_i = y(x_i) + np.random.normal(0.0, 0.5)\n",
    "    df.loc[i] = [x_i, y_i]\n",
    "\n",
    "# df.plot.scatter(x='x', y='y', s=20)\n",
    "plt.scatter(df['x'].values, df['y'].values, marker='o')\n",
    "plt.show()"
   ]
  },
  {
   "cell_type": "markdown",
   "metadata": {},
   "source": [
    "위 코드는 $y = 3x + 2$ 에 약간의 정규 분포 편차를 두어 완전히 일치하지는 않는 데이터의 분포를 나타냈으며 우리가 먼저 답을 알고 있을 뿐 실제 선형회귀로 구한 값은 아닙니다. 그러면 이제 앞서 도출한 식을 대입하여 실제 답과 비교해 보겠습니다."
   ]
  },
  {
   "cell_type": "code",
   "execution_count": 35,
   "metadata": {},
   "outputs": [
    {
     "data": {
      "image/png": "[encoded data removed]",
      "text/plain": [
       "<matplotlib.figure.Figure at 0x1091c86d8>"
      ]
     },
     "metadata": {},
     "output_type": "display_data"
    },
    {
     "name": "stdout",
     "output_type": "stream",
     "text": [
      "y'= 2.880713451081035x + 1.9423399532017154\n",
      "y = 3x + 2\n"
     ]
    }
   ],
   "source": [
    "%matplotlib inline\n",
    "\n",
    "mean_y = df['y'].mean()\n",
    "mean_x = df['x'].mean()\n",
    "\n",
    "df['x-mean(x)'] = df['x'] - mean_x\n",
    "df['y-mean(y)'] = df['y'] - mean_y\n",
    "\n",
    "B_1 = ((df['x-mean(x)'] * df['y-mean(y)']).sum()) / (df['x-mean(x)']**2).sum() \n",
    "B_0 = mean_y - B_1 * mean_x\n",
    "\n",
    "x = np.arange(-1.5, 1.5, 0.01)\n",
    "\n",
    "plt.plot()\n",
    "\n",
    "# figure init\n",
    "plt.title('Linear Regression', fontsize=20)\n",
    "plt.xlabel(r'$x$')\n",
    "plt.ylabel(r'$y$')\n",
    "\n",
    "# start plot\n",
    "plt.scatter(df['x'].values, df['y'].values, marker='o')\n",
    "plt.plot(x, y(x), label='Target function')\n",
    "plt.plot(x, B_1 * x + B_0, label='Estimate function')\n",
    "\n",
    "plt.legend()\n",
    "plt.show()\n",
    "\n",
    "print(\"y'= {}x + {}\".format(B_1, B_0))\n",
    "print(\"y = 3x + 2\")"
   ]
  },
  {
   "cell_type": "markdown",
   "metadata": {
    "collapsed": true
   },
   "source": [
    "## Estimation Error\n",
    "\n",
    "에러 값의 제곱의 평균을 제곱근한 Root Mean Squared Error(RMSE)를 구하여 에러를 산정할 수 있습니다.\n",
    "\n",
    "$$ RMSE = \\sqrt{\\frac{\\sum_{i=1}^{n}(y_i' - y_i)^2}{n}} $$\n",
    "\n",
    "위에서 계산한 선형회귀방정식의 에러를 계산합니다."
   ]
  },
  {
   "cell_type": "code",
   "execution_count": 44,
   "metadata": {},
   "outputs": [
    {
     "name": "stdout",
     "output_type": "stream",
     "text": [
      "0.4577287871401964\n"
     ]
    }
   ],
   "source": [
    "import math\n",
    "\n",
    "def y_prime(x):\n",
    "    return B_1*x + B_0\n",
    "\n",
    "df[\"y'\"] = y_prime(df['x'])\n",
    "\n",
    "RMSE = math.sqrt(((df[\"y'\"] - df['y'])**2).mean())\n",
    "\n",
    "print(RMSE)"
   ]
  },
  {
   "cell_type": "markdown",
   "metadata": {},
   "source": [
    "실제로 좌표평면 상의 두 점사이의 거리 제곱의 평균과 직선 사이의 거리를 나타내므로 **예측 값이 평균에서 0.457 정도 벗어났다**라고도 합니다."
   ]
  },
  {
   "cell_type": "markdown",
   "metadata": {},
   "source": [
    "## Pearson Correlation Coefficient\n",
    "\n",
    "이전의 선형 회귀 계수 $ B_1 = \\frac{\\sum_{i=1}^{n}(x_i - mean(x)) * (y_i - mean(y))}\n",
    "{\\sum_{i=1}^{n}(x_i - mean(x))^{2}} $ 을 통계학에서 분모는 $X$의 *분산$^{variance}$*을 나타내고 분자는 $X$, $Y$의 *공분산$^{covariance}$*을 나타냅니다. 따라서 다음과 같이 쓸 수 있습니다.\n",
    "\n",
    "$$ B_1 = \\frac{Cov(x,y)}{Var^2(x)} $$\n",
    "\n",
    "분산의 제곱근이 표준편차$^{standard deviation}$ 이므로 $stdev^2(X) = Var(X)$가 성립하여 다음과 같이 식을 변형할 수 있습니다.\n",
    "\n",
    "$$ B_1 = \\frac{Cov(x,y)}{stdev(x)*stdev(y)} * \\frac{stdev(y)}{stdev(x)} $$\n",
    "\n",
    "여기서 $\\rho = \\frac{Cov(x,y)}{stdev(x)*stdev(y)}$ 를 **Pearson 상관 계수**라고 하며 상관관계를 나타내는 척도로 사용되기도 합니다.\n",
    "\n",
    "따라서 선형회귀 방정식의 기울기는 평균으로부터의 표준편차에 상관 계수를 곱한 기울기라 할 수 있습니다."
   ]
  },
  {
   "cell_type": "markdown",
   "metadata": {},
   "source": [
    "## Limitation\n",
    "\n",
    "실제로 100개의 정해진 표본에 대한 가정으로 출발하였기 때문에 회귀 방정식을 산출함으로써 이미 일반화가 이루어 졌고 학습이 끝난 것입니다.\n",
    "새로운 데이터에 대해서는 학습된 직선에 대입함으로써 더 이상의 계수 업데이트는 이루어지지 않습니다.\n",
    "데이터가 늘어날 수록 계수를 업데이트 하려면 Gradient Descent 알고리즘을 도입하는 방법이 있습니다."
   ]
  },
  {
   "cell_type": "code",
   "execution_count": null,
   "metadata": {
    "collapsed": true
   },
   "outputs": [],
   "source": []
  }
 ],
 "metadata": {
  "kernelspec": {
   "display_name": "Python .py3",
   "language": "python",
   "name": ".py3"
  },
  "language_info": {
   "codemirror_mode": {
    "name": "ipython",
    "version": 3
   },
   "file_extension": ".py",
   "mimetype": "text/x-python",
   "name": "python",
   "nbconvert_exporter": "python",
   "pygments_lexer": "ipython3",
   "version": "3.6.1"
  }
 },
 "nbformat": 4,
 "nbformat_minor": 1
}
